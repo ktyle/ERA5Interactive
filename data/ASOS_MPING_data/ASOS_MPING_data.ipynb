{
 "cells": [
  {
   "cell_type": "code",
   "execution_count": null,
   "id": "5bec8cc8-77d1-45e4-8adf-90dee2e047f6",
   "metadata": {},
   "outputs": [],
   "source": [
    "import requests\n",
    "import json\n",
    "import time\n",
    "import datetime as dt\n",
    "from datetime import datetime, timedelta\n",
    "import pandas as pd\n",
    "import streamlit as st\n",
    "import pydeck as pdk\n",
    "import numpy as np\n",
    "import metpy.calc as mpcalc\n",
    "from metpy.units import units\n",
    "from pyproj import Proj, transform\n",
    "\n",
    "st.set_page_config(page_title=\"Map Example\", page_icon=\":guardsman:\", layout=\"wide\")\n",
    "\n",
    "valid_time = datetime.now()\n",
    "valid_time2 = valid_time - timedelta(days=1)\n",
    "\n",
    "now = dt.datetime.now()\n",
    "valid_time3 = now.time()\n",
    "end_time = dt.time(hour=23, minute=59)"
   ]
  },
  {
   "cell_type": "code",
   "execution_count": null,
   "id": "b7cce510-354a-4fd0-9893-c982c1710e34",
   "metadata": {},
   "outputs": [],
   "source": [
    "precip_types_map = {'Unknown Precip': 0,\n",
    "                    'Heavy Unknown Precip': 0,\n",
    "                    'Unknown Precip with Thunderstorm': 0,\n",
    "                  'Snow and/or Graupel': 1,\n",
    "                    'Heavy Snow and/or Graupel': 1,\n",
    "                    'Snow and/or Graupel with Thunderstorm': 1,\n",
    "                  'Ice Pellets/Sleet': 2,\n",
    "                    'Heavy Ice Pellets/Sleet': 2,\n",
    "                    'Ice Pellets/Sleet with Thunderstorm': 2,\n",
    "                  'Mixed Ice Pellets and Snow': 3,\n",
    "                    'Heavy Mixed Ice Pellets and Snow': 3,\n",
    "                    'Mixed Ice Pellets and Snow with Thunderstorm': 3,\n",
    "                  'Freezing Rain': 4,\n",
    "                    'Heavy Freezing Rain': 4,\n",
    "                    'Freezing Rain with Thunderstorm': 4,\n",
    "                  'Freezing Drizzle': 4, #don't have separate category for this currently\n",
    "                  'Mixed Freezing Rain and Ice Pellets': 5,\n",
    "                    'Heavy Mixed Freezing Rain and Ice Pellets': 5,\n",
    "                    'Mixed Freezing Rain and Ice Pellets with Thunderstorm': 5,\n",
    "                  'Rain': 6, \n",
    "                    'Heavy Rain': 6, \n",
    "                    'Rain with Thunderstorm': 6, \n",
    "                  'Drizzle': 6, #don't have separate category for this\n",
    "                  'Mixed Rain and Snow': 7,\n",
    "                    'Heavy Mixed Rain and Snow': 7,\n",
    "                    'Mixed Rain and Snow with Thunderstorm': 7,\n",
    "                  'Mixed Rain and Ice Pellets': 8,\n",
    "                    'Heavy Mixed Rain and Ice Pellets': 8,\n",
    "                    'Mixed Rain and Ice Pellets with Thunderstorm': 8,\n",
    "                  }\n",
    "\n",
    "precip_types_color = {'Unknown Precip': '#707070',\n",
    "                      'Heavy Unknown Precip': '#707070',\n",
    "                      'Unknown Precip with Thunderstorm': '#707070',\n",
    "                  'Snow and/or Graupel': '#1f48cf',\n",
    "                      'Heavy Snow and/or Graupel': '#1f48cf',\n",
    "                      'Snow and/or Graupel with Thunderstorm': '#1f48cf',\n",
    "                  'Ice Pellets/Sleet': '#ac6cd9',\n",
    "                      'Heavy Ice Pellets/Sleet': '#ac6cd9',\n",
    "                      'Ice Pellets/Sleet with Thunderstorm': '#ac6cd9',\n",
    "                  'Mixed Ice Pellets and Snow': '#56419c',\n",
    "                      'Heavy Mixed Ice Pellets and Snow': '#56419c',\n",
    "                      'Mixed Ice Pellets and Snow with Thunderstorm': '#56419c',\n",
    "                  'Freezing Rain': '#e30bc6',\n",
    "                      'Heavy Freezing Rain': '#e30bc6',\n",
    "                      'Freezing Rain with Thunderstorm': '#e30bc6',\n",
    "                  'Freezing Drizzle': '#e30bc6', #don't have separate category for this currently\n",
    "                  'Mixed Freezing Rain and Ice Pellets': '#8502b5',\n",
    "                      'Heavy Mixed Freezing Rain and Ice Pellets': '#8502b5',\n",
    "                      'Mixed Freezing Rain and Ice Pellets with Thunderstorm': '#8502b5',\n",
    "                  'Rain': '#169c2f', \n",
    "                      'Heavy Rain': '#169c2f', \n",
    "                      'Rain with Thunderstorm': '#169c2f', \n",
    "                  'Drizzle': '#169c2f', #don't have separate category for this\n",
    "                  'Mixed Rain and Snow': '#0be3df',\n",
    "                      'Heavy Mixed Rain and Snow': '#0be3df',\n",
    "                      'Mixed Rain and Snow with Thunderstorm': '#0be3df',\n",
    "                  'Mixed Rain and Ice Pellets': '#42ffca',\n",
    "                      'Heavy Mixed Rain and Ice Pellets': '#42ffca',\n",
    "                      'Mixed Rain and Ice Pellets with Thunderstorm': '#42ffca',\n",
    "                  }"
   ]
  },
  {
   "cell_type": "markdown",
   "id": "81768727-7b7c-40c4-8bc1-b1078dba0491",
   "metadata": {},
   "source": [
    "### Downloading Latest MPING Data"
   ]
  },
  {
   "cell_type": "code",
   "execution_count": null,
   "id": "636ef2f2-a54c-4dcd-927e-b9638a57ebb2",
   "metadata": {},
   "outputs": [],
   "source": [
    "#set up an interval for the MPING obs\n",
    "interval_min = 1440\n",
    "\n",
    "#Setup variables\n",
    "var_name = 'mping' #used in plot filename\n",
    "\n",
    "api_key = '3accb44957d69b28a7e1fd4411da3fb94a07d971'\n",
    "\n",
    "def get_mping_obs(valid_time, interval_min = interval_min, time_window = 'center'):\n",
    "    '''Retrieve mPING observations and parse into a pandas DataFrame\n",
    "    Inputs: \n",
    "        valid_time (datetime object) - desired observation time\n",
    "        interval_min (int) - range of time in minutes to get observations  \n",
    "        time_window (\"begin\", \"center\" or \"end\") \n",
    "            - \"begin\": get obs for interval_min beginning at valid_time\n",
    "            - \"center\": get obs centered on valid_time\n",
    "            - \"end\": get obs for interval_min ending at valid_time\n",
    "    Return:\n",
    "        pandas DataFrame with nicely parsed obs'''\n",
    "\n",
    "    reqheaders = {\n",
    "    'content-type': 'application/json',\n",
    "    'Authorization': f'Token {api_key}',\n",
    "    }\n",
    "\n",
    "    #Form API query URL\n",
    "    mping_url_base = 'http://mping.ou.edu/mping/api/v2/reports'\n",
    "\n",
    "    #Add filters to base URL\n",
    "    if time_window == 'begin':\n",
    "        #get all reports for time interval beginning at valid time\n",
    "        mping_start = hr\n",
    "        mping_end = hr + timedelta(minutes = interval_min)\n",
    "        mping_url = f'{mping_url_base}?obtime_gte={mping_start:%Y-%m-%d %H:%M:%S}&obtime_lt={mping_end:%Y-%m-%d %H:%M:%S}'\n",
    "        #print (mping_url)\n",
    "        print (f'getting mPING reports from {interval_min} min beginning at {hr:%H:%Mz %d %b %Y}')\n",
    "    elif time_window == 'end':\n",
    "        #get all reports for 1h preceding valid time\n",
    "        #mping_valid = valid_time - timedelta(minutes = interval_min)\n",
    "        #mping_url = f'{mping_url_base}?year={mping_valid:%Y}&month={mping_valid:%-m}&day={mping_valid:%-d}&hour={mping_valid:%-H}'\n",
    "\n",
    "        #get all reports for time interval ending at valid time\n",
    "        mping_start = valid_time - timedelta(minutes = interval_min)\n",
    "        mping_end = valid_time\n",
    "        mping_url = f'{mping_url_base}?obtime_gt={mping_start:%Y-%m-%d %H:%M:%S}&obtime_lte={mping_end:%Y-%m-%d %H:%M:%S}'\n",
    "        #print (mping_url)\n",
    "        print (f'getting mPING reports from {interval_min} min ending at {valid_time:%H:%Mz %d %b %Y}')\n",
    "    elif time_window == 'center':\n",
    "        #get all reports for time interval centered on valid time\n",
    "        mping_start = valid_time - timedelta(minutes = interval_min//2)\n",
    "        mping_end = valid_time + timedelta(minutes = interval_min//2)\n",
    "        mping_url = f'{mping_url_base}?obtime_gte={mping_start:%Y-%m-%d %H:%M:%S}&obtime_lt={mping_end:%Y-%m-%d %H:%M:%S}'\n",
    "        #print (mping_url)\n",
    "        print (f'getting mPING reports from {interval_min} min centered on {valid_time:%H:%Mz %d %b %Y}')\n",
    "\n",
    "    #Retrieve JSON data\n",
    "    response = requests.get(mping_url, headers = reqheaders)\n",
    "    if response.status_code != 200:\n",
    "        print (f'request failed with status code {response.status_code}')\n",
    "        return\n",
    "    else:\n",
    "        data = response.json()\n",
    "        print (f'retrieved {data[\"count\"]} reports')\n",
    "\n",
    "    #Read mPING json into dataframe for easier filtering\n",
    "    df = pd.DataFrame.from_dict(data['results'])\n",
    "    #Parse out lat/lon data\n",
    "    df['longitude'] = [geom['coordinates'][0] for geom in df['geom']]\n",
    "    df['latitude'] = [geom['coordinates'][1] for geom in df['geom']]\n",
    "\n",
    "    #could stop here\n",
    "    #return df\n",
    "\n",
    "    #Also map mPING p-types to p-type values/colors used in colorbar\n",
    "    mping_types_map_m = {'NULL': 0,\n",
    "                      'Snow and/or Graupel': 1,\n",
    "                      'Ice Pellets/Sleet': 2,\n",
    "                      'Mixed Ice Pellets and Snow': 3,\n",
    "                      'Freezing Rain': 4,\n",
    "                      'Freezing Drizzle': 4, #don't have separate category for this currently\n",
    "                      'Mixed Freezing Rain and Ice Pellets': 5,\n",
    "                      'Rain': 6, \n",
    "                      'Drizzle': 6, #don't have separate category for this\n",
    "                      'Mixed Rain and Snow': 7,\n",
    "                      'Mixed Rain and Ice Pellets': 8,\n",
    "                      }\n",
    "    #map indexes to colors (optional: only works if continuous value HRRRE colorbar used)\n",
    "    #mping_colors_map = {k:ptype_colors[int(v)] for k,v in mping_types_map.items()}\n",
    "\n",
    "    #Subtract 0.01 to make p-type categories correct\n",
    "    df['ptype'] = df['description'].map(mping_types_map_m)\n",
    "    #df['ptype_colors'] = df['description'].map(mping_colors_map)\n",
    "\n",
    "    return df\n",
    "\n",
    "MPING_data = get_mping_obs(valid_time, interval_min = interval_min, time_window = 'end')"
   ]
  },
  {
   "cell_type": "markdown",
   "id": "094f6b3f-e39b-40b1-a405-d6efa1857082",
   "metadata": {},
   "source": [
    "### Filtering MPING DATA to remove NULL/Impacts/Fog Reports"
   ]
  },
  {
   "cell_type": "code",
   "execution_count": null,
   "id": "beded6e6-986c-4e6e-87ec-b94392b58f4c",
   "metadata": {},
   "outputs": [],
   "source": [
    "MPING_Filter = MPING_data[MPING_data['description'] != 'NULL']\n",
    "MPING_Filter = MPING_Filter.dropna(subset='ptype')"
   ]
  },
  {
   "cell_type": "markdown",
   "id": "a1839bd6-4701-4cba-85b1-b9c8da71cbc4",
   "metadata": {},
   "source": [
    "### Replacing Some codes that I/ASOS don't have categories for and changing column names to line up with ASOS."
   ]
  },
  {
   "cell_type": "code",
   "execution_count": null,
   "id": "298c755e-1c76-485b-9ffb-47097c60c1ae",
   "metadata": {},
   "outputs": [],
   "source": [
    "MPING_Filter['description'] =MPING_Filter['description'].replace(['Drizzle'],\n",
    "                                                                ['Rain']) \n",
    "\n",
    "MPING_Filter['description'] =MPING_Filter['description'].replace(['Freezing Drizzle'],\n",
    "                                                                ['Freezing Rain']) \n",
    "\n",
    "MPING_Filter = MPING_Filter.rename(columns={'description':'wxcodes'})\n",
    "MPING_Filter = MPING_Filter.rename(columns={'obtime':'valid'})\n",
    "MPING_Filter['valid'] = MPING_Filter['valid'].str.replace('T',' ')"
   ]
  },
  {
   "cell_type": "markdown",
   "id": "b4ac8e50-ead2-46f6-bd24-4e35d2672abe",
   "metadata": {},
   "source": [
    "### Adding a station column to let the user know it's an MPING report"
   ]
  },
  {
   "cell_type": "code",
   "execution_count": null,
   "id": "e9c3e53a-eab7-49fb-ba45-7db581dfcb07",
   "metadata": {},
   "outputs": [],
   "source": [
    "MPING_Filter = MPING_Filter.assign(station='MPING')"
   ]
  },
  {
   "cell_type": "markdown",
   "id": "12eb74fe-d254-441e-b77a-2df7a9f72a53",
   "metadata": {},
   "source": [
    "### Adding the Colormap"
   ]
  },
  {
   "cell_type": "code",
   "execution_count": null,
   "id": "e639d2ca-8c78-441c-a540-80f870bd07a8",
   "metadata": {},
   "outputs": [],
   "source": [
    "MPING_Filter['color'] = MPING_Filter['wxcodes'].map(precip_types_color)"
   ]
  },
  {
   "cell_type": "markdown",
   "id": "1b5d38c5-4a35-421c-a2d6-72263319c2fd",
   "metadata": {},
   "source": [
    "### Rounding time to make a timeseries"
   ]
  },
  {
   "cell_type": "code",
   "execution_count": null,
   "id": "d55afa58-1647-4168-b8b4-833e4a986b6e",
   "metadata": {},
   "outputs": [],
   "source": [
    "MPING_Filter['valid_rounded'] =pd.to_datetime(MPING_Filter['valid'])\n",
    "MPING_Filter['valid_rounded'] = MPING_Filter['valid_rounded'].apply(lambda x: x + pd.Timedelta(minutes=60) if x.minute >= 1 and x.minute < 30 else x)\n",
    "MPING_Filter['valid_rounded'] = MPING_Filter['valid_rounded'].apply(lambda x: x + pd.Timedelta(hours=1) if x.minute >= 30 else x)\n",
    "MPING_Filter['valid_rounded'] = MPING_Filter['valid_rounded'].dt.strftime('%Y-%m-%d %H:00Z')"
   ]
  },
  {
   "cell_type": "code",
   "execution_count": null,
   "id": "2d1abecc-be91-4ac3-aa2a-8456b426608e",
   "metadata": {
    "tags": []
   },
   "outputs": [],
   "source": [
    "### Renaming Columns"
   ]
  },
  {
   "cell_type": "code",
   "execution_count": null,
   "id": "f417837f-b239-4942-bcd2-bad645f8a84f",
   "metadata": {
    "tags": []
   },
   "outputs": [],
   "source": [
    "MPING_data = MPING_Filter.rename(columns={'valid':'OBS Time','station' : 'Station','longitude':'Lon','latitude':'Lat','wxcodes': 'Current WX','valid_rounded':'Time'})"
   ]
  },
  {
   "cell_type": "code",
   "execution_count": null,
   "id": "b5cad574-86a7-4f2a-8c3b-633aa28dd81c",
   "metadata": {
    "tags": []
   },
   "outputs": [],
   "source": [
    "MPING_data['Time'] = pd.to_datetime(MPING_data['Time'])"
   ]
  },
  {
   "cell_type": "markdown",
   "id": "4cd8be38-b439-493b-a004-c9aae6f9080a",
   "metadata": {},
   "source": [
    "### Downloading Latest ASOS Data"
   ]
  },
  {
   "cell_type": "code",
   "execution_count": null,
   "id": "189af716-c47a-445c-b0fa-c99d167f8393",
   "metadata": {
    "tags": []
   },
   "outputs": [],
   "source": [
    "\"\"\"\n",
    "Example script that scrapes data from the IEM ASOS download service\n",
    "\"\"\"\n",
    "\n",
    "# Python 2 and 3: alternative 4\n",
    "try:\n",
    "    from urllib.request import urlopen\n",
    "except ImportError:\n",
    "    from urllib2 import urlopen\n",
    "    \n",
    "MAX_ATTEMPTS = 6\n",
    "\n",
    "\n",
    "# HTTPS here can be problematic for installs that don't have Lets Encrypt CA\n",
    "SERVICE = \"http://mesonet.agron.iastate.edu/cgi-bin/request/asos.py?\"\n",
    "\n",
    "def download_data(uri):\n",
    "    \"\"\"Fetch the data from the IEM\n",
    "    The IEM download service has some protections in place to keep the number\n",
    "    of inbound requests in check.  This function implements an exponential\n",
    "    backoff to keep individual downloads from erroring.\n",
    "    Args:\n",
    "      uri (string): URL to fetch\n",
    "    Returns:\n",
    "      string data\n",
    "    \"\"\"\n",
    "    attempt = 0\n",
    "    while attempt < MAX_ATTEMPTS:\n",
    "        try:\n",
    "            data = urlopen(uri, timeout=300).read().decode(\"utf-8\")\n",
    "            if data is not None and not data.startswith(\"ERROR\"):\n",
    "                return data\n",
    "        except Exception as exp:\n",
    "            print(\"download_data(%s) failed with %s\" % (uri, exp))\n",
    "            time.sleep(5)\n",
    "        attempt += 1\n",
    "\n",
    "    print(\"Exhausted attempts to download, returning empty data\")\n",
    "    return \"\"\n",
    "\n",
    "\n",
    "def download_alldata():\n",
    "    \"\"\"An alternative method that fetches all available data.\n",
    "\n",
    "    Service supports up to 24 hours worth of data at a time.\"\"\"\n",
    "    # timestamps in UTC to request data for\n",
    "    startts = valid_time - timedelta(hours=1)\n",
    "    endts = valid_time\n",
    "    interval = timedelta(hours=1)\n",
    "\n",
    "    service = SERVICE + \"data=all&tz=Etc/UTC&format=comma&latlon=yes&\"\n",
    "\n",
    "    now = endts\n",
    "\n",
    "    thisurl = service\n",
    "    thisurl += now.strftime(\"year1=%Y&month1=%m&day1=%d&\")\n",
    "    thisurl += (now).strftime(\"year2=%Y&month2=%m&day2=%d&\")\n",
    "    print(\"Downloading: %s\" % (now,))\n",
    "    data = download_data(thisurl)\n",
    "    outfn = \"ASOS_pre.csv\"\n",
    "    with open(outfn, \"w\") as fh:\n",
    "        fh.write(data)\n",
    "    now += interval\n",
    "    \n",
    "def download_alldata2():\n",
    "    \"\"\"An alternative method that fetches all available data.\n",
    "\n",
    "    Service supports up to 24 hours worth of data at a time.\"\"\"\n",
    "    # timestamps in UTC to request data for\n",
    "    startts = valid_time2 - timedelta(hours=1)\n",
    "    endts = valid_time2\n",
    "    interval = timedelta(hours=1)\n",
    "\n",
    "    service = SERVICE + \"data=all&tz=Etc/UTC&format=comma&latlon=yes&\"\n",
    "\n",
    "    now = endts\n",
    "\n",
    "    thisurl = service\n",
    "    thisurl += now.strftime(\"year1=%Y&month1=%m&day1=%d&\")\n",
    "    thisurl += (now).strftime(\"year2=%Y&month2=%m&day2=%d&\")\n",
    "    print(\"Downloading: %s\" % (now,))\n",
    "    data = download_data(thisurl)\n",
    "    outfn = \"ASOS_pre2.csv\"\n",
    "    with open(outfn, \"w\") as fh:\n",
    "        fh.write(data)\n",
    "    now += interval\n",
    "\n",
    "\n",
    "if __name__ == \"__main__\":\n",
    "    download_alldata()\n",
    "    download_alldata2()\n",
    "    #main()"
   ]
  },
  {
   "cell_type": "markdown",
   "id": "749916ca-9db9-41ea-9933-80df9eac95a4",
   "metadata": {},
   "source": [
    "### Opening the ASOS data"
   ]
  },
  {
   "cell_type": "code",
   "execution_count": null,
   "id": "9c367bac-04d6-4f23-927b-255772754c64",
   "metadata": {},
   "outputs": [],
   "source": [
    "valid_time_str = valid_time.strftime('%Y%m%d')\n",
    "\n",
    "#deleting first 5 lines because formtting is weird when downloading the data\n",
    "with open(\"ASOS_pre.csv\", 'r') as f:\n",
    "    lines = f.readlines()\n",
    "with open(\"ASOS_pre.csv\", 'w') as f:\n",
    "    f.writelines(lines[5:])\n",
    "    \n",
    "    #opening the data with pandas\n",
    "ASOS_data = pd.read_csv(\"ASOS_pre.csv\", delimiter=',')\n",
    "\n",
    "#deleting first 5 lines because formtting is weird when downloading the data\n",
    "with open(\"ASOS_pre2.csv\", 'r') as f:\n",
    "    lines = f.readlines()\n",
    "with open(\"ASOS_pre2.csv\", 'w') as f:\n",
    "    f.writelines(lines[5:])\n",
    "    \n",
    "    #opening the data with pandas\n",
    "ASOS_data2 = pd.read_csv(\"ASOS_pre2.csv\", delimiter=',')"
   ]
  },
  {
   "cell_type": "markdown",
   "id": "169f389c-de27-4b93-8442-cc347fc5cdc7",
   "metadata": {},
   "source": [
    "### Filtering old dataset to correct times and merging them together"
   ]
  },
  {
   "cell_type": "code",
   "execution_count": null,
   "id": "561e2b90-6215-428b-a7c0-8390be9e5c99",
   "metadata": {},
   "outputs": [],
   "source": [
    "ASOS_data2['valid'] = pd.to_datetime(ASOS_data2['valid'])\n",
    "mask = (ASOS_data2['valid'].dt.time >= valid_time3) & (ASOS_data2['valid'].dt.time <= end_time)\n",
    "ASOS_data2 = ASOS_data2[mask]\n",
    "\n",
    "ASOS_data['valid'] = pd.to_datetime(ASOS_data['valid'])\n",
    "mask = (ASOS_data['valid'].dt.time <= valid_time3)\n",
    "ASOS_data = ASOS_data[mask]"
   ]
  },
  {
   "cell_type": "code",
   "execution_count": null,
   "id": "11a5bcce-dce6-427c-ae24-3554711c7ae7",
   "metadata": {},
   "outputs": [],
   "source": [
    "ASOS_data_full = pd.concat([ASOS_data2,  ASOS_data])"
   ]
  },
  {
   "cell_type": "markdown",
   "id": "3b01218b-84f9-4b7e-94b0-71660311c7af",
   "metadata": {},
   "source": [
    "### Filter data to just USA"
   ]
  },
  {
   "cell_type": "code",
   "execution_count": null,
   "id": "e5d2e273-c86f-4687-a8fd-cf3aa8b8a87a",
   "metadata": {
    "tags": []
   },
   "outputs": [],
   "source": [
    "lat_min, lat_max = 20, 50\n",
    "lon_min, lon_max = -130, -60"
   ]
  },
  {
   "cell_type": "code",
   "execution_count": null,
   "id": "1ceb74a1-b46e-4f59-9106-1ae8fd89e74b",
   "metadata": {
    "tags": []
   },
   "outputs": [],
   "source": [
    "ASOS_data_full = ASOS_data_full[(ASOS_data_full['lat'] >= lat_min) & (ASOS_data_full['lat'] <= lat_max) & (ASOS_data_full['lon'] >= lon_min) & (ASOS_data_full['lon'] <= lon_max)]"
   ]
  },
  {
   "cell_type": "code",
   "execution_count": null,
   "id": "af51a711-1ee4-4c9c-913d-ce22aa8f3cf4",
   "metadata": {
    "tags": []
   },
   "outputs": [],
   "source": [
    "#ASOS_data_full.columns"
   ]
  },
  {
   "cell_type": "code",
   "execution_count": null,
   "id": "7e66cc73-a3f4-4161-a455-f037acb5f262",
   "metadata": {
    "tags": []
   },
   "outputs": [],
   "source": [
    "#ASOS_data_full[ASOS_data_full['station'] == 'ALB']"
   ]
  },
  {
   "cell_type": "markdown",
   "id": "c3756bc9-8733-416d-a99a-ebc5737b6e97",
   "metadata": {
    "tags": []
   },
   "source": [
    "### Removing NA/M values from just the data we want"
   ]
  },
  {
   "cell_type": "code",
   "execution_count": null,
   "id": "8fa26c7d-23ec-4143-b2f4-464fe5c86dea",
   "metadata": {},
   "outputs": [],
   "source": [
    "#WX_Codes_Filter = ASOS_data_full[ASOS_data_full['wxcodes'] != 'M']\n",
    "#WX_Codes_Filter = WX_Codes_Filter.dropna(subset='wxcodes')\n",
    "WX_Codes_Filter = ASOS_data_full[['station','valid','lat','lon','wxcodes','tmpf', 'sknt','peak_wind_gust','feel','p01i']]\n",
    "WX_Codes_Filter['wxcodes_full'] = WX_Codes_Filter['wxcodes']"
   ]
  },
  {
   "cell_type": "code",
   "execution_count": null,
   "id": "29b6d904-2e5a-4150-a3aa-a36f779d74d9",
   "metadata": {
    "tags": []
   },
   "outputs": [],
   "source": [
    "#WX_Codes_Filter[WX_Codes_Filter['station'] == 'ALB']"
   ]
  },
  {
   "cell_type": "markdown",
   "id": "054bda97-b775-43b5-8121-5d688843b026",
   "metadata": {
    "tags": []
   },
   "source": [
    "### Adding the PTYPE Map to the ASOS observations"
   ]
  },
  {
   "cell_type": "code",
   "execution_count": null,
   "id": "be0168d1-4829-418d-a92b-f5df642ce8a0",
   "metadata": {
    "tags": []
   },
   "outputs": [],
   "source": [
    "#Replacing all of the metar codes with the easier to read map language, this is also used to coencide with the MPING data better as we will use the same language between both\n",
    "WX_Codes_Filter['wxcodes'] = WX_Codes_Filter['wxcodes'].replace(['HZ BLDU','BCFZFG BR','VCSS','-BLSN','BCFZFG', 'GR', 'BLSN VCSH', 'VCMIFG', 'HZ PRFG','FZFG BR','MIFG BCFG', 'PRFG MIFG','-', 'GS','HZ DRSN', 'DRSN BR','DRSN BR''HZ DRSN','FU PRFG', 'DRSN HZ','VCPO','PO', 'SHGR','VCFG MIFG', 'VCVA','FG VCSH','BLSN FZFG','VCBR','BR FU','BR BCFG','BR PRFG','BCFG BR','BR MIFG','BR VCFG','PRFG BR', 'VCFG BR','MIFG BR','BR HZ','BLSN BR','BR BLSN','BR DRSN','FU BR','BR','+FC','VCBLSN','FC','HZ BLSN','DRSN VCFG','PRFZFG','-DS','FZFG BLSN','HZ SQ','DRSN VCSH','FG HZ', 'DRSN VCBLSN','VCFG HZ','-HZ','DS','NSW','-DRSN','FG FU','FU HZ','BLSN DRSN','SS','DRDU', 'BLSA', 'SA','DU','HZ FU','BLDU','BCFG FU','VCHZ','PRFG','NP','M','NaN','DRSN', 'FG', 'HZ', 'FZFG','BLSN','FU','FZFG FU','MIFG','PRFG FU','PRFG FU','VCFG','BCFG','VCBLDU','+FG','BR DU','HZ BR',],\n",
    "                                                   ['NULL','NULL','NULL','NULL','NULL','NULL','NULL','NULL','NULL','NULL','NULL','NULL','NULL','NULL','NULL','NULL','NULL','NULL','NULL','NULL','NULL','NULL','NULL','NULL','NULL','NULL','NULL','NULL','NULL','NULL','NULL','NULL','NULL','NULL','NULL','NULL','NULL','NULL','NULL','NULL','NULL','NULL','NULL','NULL','NULL','NULL','NULL','NULL','NULL','NULL','NULL','NULL','NULL','NULL','NULL','NULL','NULL','NULL','NULL','NULL','NULL','NULL','NULL','NULL','NULL','NULL','NULL','NULL','NULL','NULL','NULL','NULL','NULL','NULL','NULL','NULL','NULL','NULL', 'NULL', 'NULL','NULL', 'NULL','NULL','NULL','NULL','NULL','NULL','NULL','NULL','NULL','NULL'])\n",
    "\n",
    "\n",
    "#SNOW#############################################################################################################################################################################\n",
    "WX_Codes_Filter['wxcodes'] = WX_Codes_Filter['wxcodes'].replace(['-SN BR SQ', 'SN FG SQ','-SN FZFG DRSN','-SNSN','SHSNGS BLSN','-SN DRSN SN','SN BLSN BR','-SGSN', '-SHSN HZ','-SHSN BLSN BR', 'SHSN BLSN BR','-FZUP -SN','SHSN VCSH','-SNSG DRSN','-SN BLSN BR','SNSG','-SN FZUP','-SHSN BLSN DRSN','-SHSN FU', 'SHSN FU','-SN DRSN BR', '-SHSN DRSN BR', 'SN DRSN BR','SN +BLSN', '-SHSN +BLSN','SN FZFG BLSN', '-SN DRSN HZ', '+SHSN BR', '-SN +BLSN', '-SN -FZUP','SHSNGS','SHSN FZFG','-SN FU PRFG','-SHSN FG', 'SG FZFG','SG','-SG','-SG DRSN','-SG VCFG','SHSG','-SHSG','SG BR','-SG BR','BLSN -SHSN', '-SG BLSN', '-SHSN FZFG','-SHSNGS BR', '-SNGS', '-SN -','-SNSG BR','SN BCFG','BCFG BR -SHSN','-SN BR FU', '-SHGSSN', '-SHSN PRFG','SN SQ', 'VCFG SHSN','FG -SHSN', 'BR -SN', '-SN VCSH','-SN DRSN VCBLSN','+SHSN DRSN','VCSN BR','-SN PRFG','VCSHSN','SNFG','-SNSG','-SN BCFG','-SN BCFG BR','-SN BR BCFG','SN FU', '-SN FU','SHSN BR','-SHSNGS','-SN UP','-SHSN BCFG','-SHSN VCFG','-SHSN','SNBR','-SN FZFG BLSN','-SN -UP','+SHSN BLSN', 'SN DRSN','-SN HZ', '-SN HZ DRSN','-SN VCFG','-SHSN BLSN','-SN BR DRSN','-SN SQ','BLSN SHSN','-SHSN DRSN','SHSN BLSN','SN BR','+SHSN','-SG FZFG','-SHSN BR','SHSN','-SN','-SN BR','SN','-SN DRSN','-SN BLSN','SN BLSN','-SNBR','SN FZFG','SN FG','-SN FG','-SN FZFG'],\n",
    "                                                     ['Snow and/or Graupel','Snow and/or Graupel','Snow and/or Graupel','Snow and/or Graupel','Snow and/or Graupel','Snow and/or Graupel','Snow and/or Graupel','Snow and/or Graupel','Snow and/or Graupel','Snow and/or Graupel','Snow and/or Graupel','Snow and/or Graupel','Snow and/or Graupel','Snow and/or Graupel','Snow and/or Graupel','Snow and/or Graupel','Snow and/or Graupel','Snow and/or Graupel','Snow and/or Graupel','Snow and/or Graupel','Snow and/or Graupel','Snow and/or Graupel','Snow and/or Graupel','Snow and/or Graupel','Snow and/or Graupel','Snow and/or Graupel','Snow and/or Graupel','Snow and/or Graupel','Snow and/or Graupel','Snow and/or Graupel','Snow and/or Graupel','Snow and/or Graupel','Snow and/or Graupel','Snow and/or Graupel','Snow and/or Graupel','Snow and/or Graupel','Snow and/or Graupel','Snow and/or Graupel','Snow and/or Graupel','Snow and/or Graupel','Snow and/or Graupel','Snow and/or Graupel','Snow and/or Graupel','Snow and/or Graupel','Snow and/or Graupel','Snow and/or Graupel','Snow and/or Graupel','Snow and/or Graupel','Snow and/or Graupel','Snow and/or Graupel','Snow and/or Graupel','Snow and/or Graupel','Snow and/or Graupel','Snow and/or Graupel','Snow and/or Graupel','Snow and/or Graupel','Snow and/or Graupel','Snow and/or Graupel','Snow and/or Graupel','Snow and/or Graupel','Snow and/or Graupel','Snow and/or Graupel','Snow and/or Graupel','Snow and/or Graupel','Snow and/or Graupel','Snow and/or Graupel','Snow and/or Graupel','Snow and/or Graupel','Snow and/or Graupel','Snow and/or Graupel','Snow and/or Graupel','Snow and/or Graupel','Snow and/or Graupel','Snow and/or Graupel','Snow and/or Graupel','Snow and/or Graupel','Snow and/or Graupel','Snow and/or Graupel','Snow and/or Graupel','Snow and/or Graupel','Snow and/or Graupel','Snow and/or Graupel','Snow and/or Graupel','Snow and/or Graupel','Snow and/or Graupel','Snow and/or Graupel','Snow and/or Graupel','Snow and/or Graupel','Snow and/or Graupel','Snow and/or Graupel','Snow and/or Graupel','Snow and/or Graupel','Snow and/or Graupel','Snow and/or Graupel','Snow and/or Graupel','Snow and/or Graupel','Snow and/or Graupel','Snow and/or Graupel','Snow and/or Graupel','Snow and/or Graupel','Snow and/or Graupel','Snow and/or Graupel','Snow and/or Graupel','Snow and/or Graupel','Snow and/or Graupel','Snow and/or Graupel', 'Snow and/or Graupel','Snow and/or Graupel'])\n",
    "\n",
    "WX_Codes_Filter['wxcodes'] = WX_Codes_Filter['wxcodes'].replace(['VCTSSN', 'VCTS SN BR', 'TSSN FG','+VCTSSN', '+TSSN','VCTS SN FZFG','TSSN BLSN','-VCTSSN','SN VCTS','+SN VCTS','-SN VCTS','-VCTSSN BR','+TSGSSN', '-TSSNGS', '+TSGSSN', '-TSSNGS','TSSNGS','TSSN','-TSSN BR','VCTS -SN','VCTS -SN FZFG', 'VCTS -SN BR','-TSSN'],\n",
    "                                                                ['Snow and/or Graupel with Thunderstorm','Snow and/or Graupel with Thunderstorm','Snow and/or Graupel with Thunderstorm','Snow and/or Graupel with Thunderstorm','Snow and/or Graupel with Thunderstorm','Snow and/or Graupel with Thunderstorm','Snow and/or Graupel with Thunderstorm','Snow and/or Graupel with Thunderstorm','Snow and/or Graupel with Thunderstorm','Snow and/or Graupel with Thunderstorm','Snow and/or Graupel with Thunderstorm','Snow and/or Graupel with Thunderstorm','Snow and/or Graupel with Thunderstorm','Snow and/or Graupel with Thunderstorm','Snow and/or Graupel with Thunderstorm','Snow and/or Graupel with Thunderstorm','Snow and/or Graupel with Thunderstorm','Snow and/or Graupel with Thunderstorm','Snow and/or Graupel with Thunderstorm','Snow and/or Graupel with Thunderstorm','Snow and/or Graupel with Thunderstorm','Snow and/or Graupel with Thunderstorm','Snow and/or Graupel with Thunderstorm'])\n",
    "\n",
    "WX_Codes_Filter['wxcodes'] = WX_Codes_Filter['wxcodes'].replace(['+SN FG SQ','-FZRA +SN','+SN BCFG','+SNSG','+SN -UP','+SN DRSN','+SN +BLSN','+SN BR','+SN BLSN','+SN','+SN FG','+SN FZFG'],\n",
    "                                                                ['Heavy Snow and/or Graupel','Heavy Snow and/or Graupel','Heavy Snow and/or Graupel','Heavy Snow and/or Graupel','Heavy Snow and/or Graupel','Heavy Snow and/or Graupel','Heavy Snow and/or Graupel','Heavy Snow and/or Graupel','Heavy Snow and/or Graupel','Heavy Snow and/or Graupel','Heavy Snow and/or Graupel','Heavy Snow and/or Graupel',])\n",
    "#SLEET#############################################################################################################################################################################\n",
    "WX_Codes_Filter['wxcodes'] = WX_Codes_Filter['wxcodes'].replace(['IC BCFG BR','IC PRFG','IC BR','IC -SHGS DRSN','IC DRDU DRSN','IC HZ','-IC BR VCFG','IC BR DRSN','IC DRSA','IC BCFG','IC FZFG','+SHPL','PLBR','PL FZFG','PL BR',  'IC DRSN VCBLSN','-IC BR','-PL FZFG','IC BLSN','BR PL','IC VCFG','IC HZ DRSN','IC DRSN','-IC','-IP','IP','IC','-PL','PL',],\n",
    "                                                                ['Ice Pellets/Sleet','Ice Pellets/Sleet','Ice Pellets/Sleet','Ice Pellets/Sleet','Ice Pellets/Sleet','Ice Pellets/Sleet','Ice Pellets/Sleet','Ice Pellets/Sleet','Ice Pellets/Sleet','Ice Pellets/Sleet','Ice Pellets/Sleet','Ice Pellets/Sleet','Ice Pellets/Sleet','Ice Pellets/Sleet','Ice Pellets/Sleet','Ice Pellets/Sleet','Ice Pellets/Sleet','Ice Pellets/Sleet','Ice Pellets/Sleet','Ice Pellets/Sleet','Ice Pellets/Sleet','Ice Pellets/Sleet','Ice Pellets/Sleet','Ice Pellets/Sleet','Ice Pellets/Sleet','Ice Pellets/Sleet','Ice Pellets/Sleet','Ice Pellets/Sleet','Ice Pellets/Sleet']) \n",
    "\n",
    "WX_Codes_Filter['wxcodes'] = WX_Codes_Filter['wxcodes'].replace(['VCTS PL','+TSPL FZFG','TSPL','-TSPL BR','TSPL BR','VCTS PL BR'],\n",
    "                                                                ['Ice Pellets/Sleet with Thunderstorm','Ice Pellets/Sleet with Thunderstorm','Ice Pellets/Sleet with Thunderstorm','Ice Pellets/Sleet with Thunderstorm','Ice Pellets/Sleet with Thunderstorm','Ice Pellets/Sleet with Thunderstorm',])\n",
    "\n",
    "WX_Codes_Filter['wxcodes'] = WX_Codes_Filter['wxcodes'].replace(['+PL BR','+PL FZFG','+PL FG','+IC','+IP','+PL'],\n",
    "                                                                ['Hevay Ice Pellets/Sleet','Hevay Ice Pellets/Sleet','Hevay Ice Pellets/Sleet','Hevay Ice Pellets/Sleet','Hevay Ice Pellets/Sleet','Hevay Ice Pellets/Sleet',])\n",
    "#RAIN#############################################################################################################################################################################\n",
    "WX_Codes_Filter['wxcodes'] = WX_Codes_Filter['wxcodes'].replace(['SQ','-DZBR','RA SQ','VCTS RA HZ', 'RA BR SQ','-SHGS BR','RA UP BR', 'RA MIFG','-RAGS', '+SH', 'RA VCFG', '-RA SQ','-RA BLDU','-DZ VCFG BR','-DZ PRFG BR','DZSG', '-DZSG VCSH', '-SHRA PRFG BR', 'RA DU','RA -UP BR','-SHRA BR BCFG','-RA DU', 'SHRA BCFG BR','-SHRA BCFG BR','-RA BR BCFG','BR RADZ', '+SHGSRA', '-RA -', '-DZSG','SHRAGR', '-RA FZFG','DZRABR','BR FG','FG BR','-SGRAGS','RA BR VCSH','-SHRAGR','RADZ BCFG','-RA -UP BR','BR -RA', '-RA -UP BR''SHSGRA','SHGR BR', '+SHGR BR','SHGR BR', '+SHGR BR','-SHGS','-GS BR','-SHRAGS BR','-SHRAGS','SHRAGS','-SHGSRA','SHGSRA','+SHRAGS','GS BR','-SHGR','VCFC VCSH','FG -DZ','BCFG VCSH','-VCSH','FC VCSH','DZ VCFG','-VCRA', '-SHRA DZ', '-SHRA FU','VCSH BR', 'DR', '+DZ FG','VCSHRA','-DZ FU', 'RA VCSH','- SHRA','SHRA BR FU', '-RADZ FG', '-SHRA +DZ','SHRA HZ', '-SHRA -DS', '-FG DZ', 'FG RA', 'VC RA','SH','-RA BCFG BR', '-DZ PRFG','VCDZ', '- DZ', 'RABR', '-SHRAHZ',  '-DZ BCFG', '+SHRA BR','VCFG VCSH','FZFG VCSH','-SHRA BR FU','RA HZ', '-DZ VCSH', '-RADZ VCFG', '-DZ VCFG', '+DZ BR','DZ VCSH','VCSH HZ', '-SH','-RA RA','-SHRA HZ','RA HZ', '-DZRA BR', 'RADZ FG','BR -RADZ','-RA BR FU','-RA PRFG', '-RA FG FU', 'RA -UP','-RA -UP', 'SHRA BR','-RADZ BR','FG DZ','-RABR','-RA VCSH', 'RADZ BR', '- RA', 'BR DZ','-DZRA VCFG','-RA SHRA', 'BR VCSH','SHRA VCSH','RA BCFG','FG -RA','DZRA BR','-RA BR VCFG','-RA HZ', '-SHRA VCSH', '- RA BR','-SHGRRA','VCRA','-SHRA PRFG','DRSA','-SHRA BCFG','SHGS', 'DZRA', '-SHRA FG','-RADZ BCFG','-RA VCFG','-RA BCFG', '+SHRA','RADZ','-RA BR','+DZRA', '+DZ', '-SHRA BR','-RA MIFG','BR -DZ', 'DZ', '-DZRA','-SHRA','-RADZ','-RA','RA','RA BR','-RA FG','-DZ BR','SHRA','-DZ FG','-DZ','DZ BR','SHRA''-RA BR','DZ FG','RA FG','VCSH'],\n",
    "                                                    ['Rain','Rain','Rain','Rain','Rain','Rain','Rain','Rain','Rain','Rain','Rain','Rain','Rain','Rain','Rain','Rain','Rain','Rain','Rain','Rain','Rain','Rain','Rain','Rain','Rain','Rain','Rain','Rain','Rain','Rain','Rain','Rain','Rain','Rain','Rain','Rain','Rain','Rain','Rain','Rain','Rain','Rain','Rain','Rain','Rain','Rain','Rain','Rain','Rain','Rain','Rain','Rain','Rain','Rain','Rain','Rain','Rain','Rain','Rain','Rain','Rain','Rain','Rain','Rain','Rain','Rain','Rain','Rain','Rain','Rain','Rain','Rain','Rain','Rain','Rain','Rain','Rain','Rain','Rain','Rain','Rain','Rain','Rain','Rain','Rain','Rain','Rain','Rain','Rain','Rain','Rain','Rain','Rain','Rain','Rain','Rain','Rain','Rain','Rain','Rain','Rain','Rain','Rain','Rain','Rain','Rain','Rain','Rain','Rain','Rain','Rain','Rain','Rain','Rain','Rain','Rain','Rain','Rain','Rain','Rain','Rain','Rain','Rain','Rain','Rain','Rain','Rain','Rain','Rain','Rain','Rain','Rain','Rain','Rain','Rain','Rain','Rain','Rain','Rain','Rain','Rain','Rain','Rain','Rain','Rain','Rain','Rain','Rain','Rain','Rain','Rain','Rain','Rain','Rain','Rain','Rain','Rain','Rain','Rain','Rain','Rain','Rain','Rain','Rain','Rain']) \n",
    "\n",
    "WX_Codes_Filter['wxcodes'] = WX_Codes_Filter['wxcodes'].replace(['+TSRAGR','VCTS GR','+SHGR', '+TSGR','-SHGR VCTS','VCTS +RA FG','+TSRA BR SQ', '+VCTSRA BR','VCTSRA BR', '+VCTSDZ','RA FG VCTS', 'VCTSHZ', '-RA BR VCTS','-VCTSRA BR','VCTSBR',  'SHRAGS TS','+TS','TSDZ', '+SHRA VCTS','-VCTSDZ', 'TSGS','TSGR', '-TS SHRA','BR TS','TSRA FG','TS RABR','-DZ VCTS','TS FZFG','VCTS FZFG','-TSSH','-TSGRRA','TSRAGR','-TSGR','TS GR','TSGSRA','TSGSRA','+TSGSRA','-TSRAGS', 'TSRAGS','VCTS DZ', 'TSRA BCFG','BR TSRA', 'BR -TSRA','-TSRA PRFG','+TSBR','VCTSDZ','-TSSHRA','VCTS -TSRA','TSBR', '-TS RA','-TSDZ','VCTS HZ','VCTS +SHRA','-SHRA TS','+RA BR VCTS','SQ -TSRA','-TSRA HZ','SHRA VCTS','VCTS -DZ','VCTS RA','RA VCTS', 'TSRA VCFG','+RA VCTS','-SHRA VCTS','-TSRA VCSH','VCTS VCSH','TS -DZ','TS SHRA','TS HZ','TSSHRA','TSHZ', 'TS FG','TSSHRA','VCTS BR','VCTS -RA','+TSRA FG','VCTSSH','TS RA','RA BR VCTS','VCTS +RA','+RA FG VCTS','-TSRA FG', 'TSRA BR', 'VCTS RA FG', '-VCTSRABR','VCTS +RA BR','-TS','VCTS FG','VCTSRA','SHRA TS','TS BR','-TSRA BR', 'VCSH VCTS','+VCTSRA','VCTS -RA BR','-RA VCTS','VCTS RA BR','-VCTSRA','+TSRA','TS VCSH', '+TSRA BR', 'VCTS SHRA', 'TSRA','-RA TS','VCTS','VCTS -SHRA','TS','VCSH TS','-TSRA',],\n",
    "                                                                ['Rain with Thunderstorm','Rain with Thunderstorm','Rain with Thunderstorm','Rain with Thunderstorm','Rain with Thunderstorm','Rain with Thunderstorm','Rain with Thunderstorm','Rain with Thunderstorm','Rain with Thunderstorm','Rain with Thunderstorm','Rain with Thunderstorm','Rain with Thunderstorm','Rain with Thunderstorm','Rain with Thunderstorm','Rain with Thunderstorm','Rain with Thunderstorm','Rain with Thunderstorm','Rain with Thunderstorm','Rain with Thunderstorm','Rain with Thunderstorm','Rain with Thunderstorm','Rain with Thunderstorm','Rain with Thunderstorm','Rain with Thunderstorm','Rain with Thunderstorm','Rain with Thunderstorm','Rain with Thunderstorm','Rain with Thunderstorm','Rain with Thunderstorm','Rain with Thunderstorm','Rain with Thunderstorm','Rain with Thunderstorm','Rain with Thunderstorm','Rain with Thunderstorm','Rain with Thunderstorm','Rain with Thunderstorm','Rain with Thunderstorm','Rain with Thunderstorm','Rain with Thunderstorm','Rain with Thunderstorm','Rain with Thunderstorm','Rain with Thunderstorm','Rain with Thunderstorm','Rain with Thunderstorm','Rain with Thunderstorm','Rain with Thunderstorm','Rain with Thunderstorm','Rain with Thunderstorm','Rain with Thunderstorm','Rain with Thunderstorm','Rain with Thunderstorm','Rain with Thunderstorm','Rain with Thunderstorm','Rain with Thunderstorm','Rain with Thunderstorm','Rain with Thunderstorm','Rain with Thunderstorm','Rain with Thunderstorm','Rain with Thunderstorm','Rain with Thunderstorm','Rain with Thunderstorm','Rain with Thunderstorm','Rain with Thunderstorm','Rain with Thunderstorm','Rain with Thunderstorm','Rain with Thunderstorm','Rain with Thunderstorm','Rain with Thunderstorm','Rain with Thunderstorm','Rain with Thunderstorm','Rain with Thunderstorm','Rain with Thunderstorm','Rain with Thunderstorm','Rain with Thunderstorm','Rain with Thunderstorm','Rain with Thunderstorm','Rain with Thunderstorm','Rain with Thunderstorm','Rain with Thunderstorm','Rain with Thunderstorm','Rain with Thunderstorm','Rain with Thunderstorm','Rain with Thunderstorm','Rain with Thunderstorm','Rain with Thunderstorm','Rain with Thunderstorm','Rain with Thunderstorm','Rain with Thunderstorm','Rain with Thunderstorm','Rain with Thunderstorm','Rain with Thunderstorm','Rain with Thunderstorm','Rain with Thunderstorm','Rain with Thunderstorm','Rain with Thunderstorm','Rain with Thunderstorm','Rain with Thunderstorm','Rain with Thunderstorm','Rain with Thunderstorm','Rain with Thunderstorm','Rain with Thunderstorm','Rain with Thunderstorm','Rain with Thunderstorm','Rain with Thunderstorm','Rain with Thunderstorm','Rain with Thunderstorm','Rain with Thunderstorm','Rain with Thunderstorm','Rain with Thunderstorm',])\n",
    "\n",
    "WX_Codes_Filter['wxcodes'] = WX_Codes_Filter['wxcodes'].replace(['+RA SQ','+RA FG SQ','+RA BR SQ','+RA BCFG VCTS','+RA FG VCFG','+RA VCFG','+RABR','+RA BCFG','+RA HZ','+RA FG','+RA','+RA BR',],\n",
    "                                                                ['Heavy Rain','Heavy Rain','Heavy Rain','Heavy Rain','Heavy Rain','Heavy Rain','Heavy Rain','Heavy Rain','Heavy Rain','Heavy Rain','Heavy Rain','Heavy Rain',])\n",
    "#FREEZING RAIN#############################################################################################################################################################################\n",
    "WX_Codes_Filter['wxcodes'] = WX_Codes_Filter['wxcodes'].replace([ '-FZRA -RA','FZRA -SN','FZRASN BLSN','-FZRADZ','-FZRA -SN BLSN','-FZRA -SN BLSN','-FZDZ -SN DRSN','-FZRA BCFG','-FZRA FG','FZRA SN BR', 'FZRASN BR','FZRA SN', '-FZDZ FG','FZRA FZFG','-FZRA SN', '+FZDZ FZFG','+FZDZ BR','-FZRASN BR','FZDZ BR','+FZDZ','-FZDZ BCFG','- FZ RA','-FZRA FZFG','-FZRA -SN','-FZDZ -SN','-FZDZ -SN BR','-FZDZ FZFG','FZDZ FZFG','FZRA FG','FZRA','-FZDZ','-FZDZ BR','-FZRA','-FZRA BR','FZDZ','FZRA BR','-FZDZSN','-FZRASN'],\n",
    "                                                    ['Freezing Rain','Freezing Rain','Freezing Rain','Freezing Rain','Freezing Rain','Freezing Rain','Freezing Rain','Freezing Rain','Freezing Rain','Freezing Rain','Freezing Rain','Freezing Rain','Freezing Rain','Freezing Rain','Freezing Rain','Freezing Rain','Freezing Rain','Freezing Rain','Freezing Rain','Freezing Rain','Freezing Rain','Freezing Rain','Freezing Rain','Freezing Rain','Freezing Rain','Freezing Rain','Freezing Rain','Freezing Rain','Freezing Rain','Freezing Rain','Freezing Rain','Freezing Rain','Freezing Rain','Freezing Rain','Freezing Rain','Freezing Rain','Freezing Rain','Freezing Rain'])\n",
    "\n",
    "WX_Codes_Filter['wxcodes'] = WX_Codes_Filter['wxcodes'].replace(['TS FZRA BR','VCTS FZRA FZFG','VCTS FZRA BR','TSFZRA BR','VCTS FZRA','TS -FZRA','VCTS -FZRA',],\n",
    "                                                                ['Freezing Rain with Thunderstorm','Freezing Rain with Thunderstorm','Freezing Rain with Thunderstorm','Freezing Rain with Thunderstorm','Freezing Rain with Thunderstorm','Freezing Rain with Thunderstorm','Freezing Rain with Thunderstorm'])\n",
    "\n",
    "WX_Codes_Filter['wxcodes'] = WX_Codes_Filter['wxcodes'].replace(['+FZRA BR','+FZRA',],\n",
    "                                                                ['Heavy Freezing Rain','Heavy Freezing Rain',])\n",
    "#MIXED ZR/IP#############################################################################################################################################################################\n",
    "WX_Codes_Filter['wxcodes'] = WX_Codes_Filter['wxcodes'].replace(['-FZRA +SHPL BLSN','FZRA PL','FZRAPL','-FZDZPL','FZRA PL FZFG','FZRA PL BR','-FZRAPL','-FZRA -PL -SN','-FZRASNPL','-FZDZ -PL','-FZRA -PL','-FZRAPL BR','-FZRA -PL DRSN','-FZRA -PL BR'],\n",
    "                                                                ['Mixed Freezing Rain and Ice Pellets','Mixed Freezing Rain and Ice Pellets','Mixed Freezing Rain and Ice Pellets','Mixed Freezing Rain and Ice Pellets','Mixed Freezing Rain and Ice Pellets','Mixed Freezing Rain and Ice Pellets','Mixed Freezing Rain and Ice Pellets','Mixed Freezing Rain and Ice Pellets','Mixed Freezing Rain and Ice Pellets','Mixed Freezing Rain and Ice Pellets','Mixed Freezing Rain and Ice Pellets','Mixed Freezing Rain and Ice Pellets','Mixed Freezing Rain and Ice Pellets','Mixed Freezing Rain and Ice Pellets'])\n",
    "\n",
    "WX_Codes_Filter['wxcodes'] = WX_Codes_Filter['wxcodes'].replace(['TS -FZRAPL','TS FZRAPL FZFG','TS FZRAPL BR',],\n",
    "                                                                ['Mixed Freezing Rain and Ice Pellets with Thunderstorm','Mixed Freezing Rain and Ice Pellets with Thunderstorm','Mixed Freezing Rain and Ice Pellets with Thunderstorm'])\n",
    "\n",
    "WX_Codes_Filter['wxcodes'] = WX_Codes_Filter['wxcodes'].replace([],\n",
    "                                                                [])\n",
    "#MIXED RA/SN#############################################################################################################################################################################\n",
    "WX_Codes_Filter['wxcodes'] = WX_Codes_Filter['wxcodes'].replace([ '-RA -SN -','RASN -UP','SHRASN BR', '-SN RA','-SG VCSH','-SNRA BLSN','-RASN BR VCFG','-SHSNRAGS','SHSNRA FG''-SN RA','RA -SN','-SHRASN BCFG','+SHRASN','BR -SNRA','-SNDZ','-SNRA FG','SNRA BR','-SNRA VCFG','SHRASNGS', '-RAPLSN','SHSNRA BR','-SNRA PRFG','-RASNGS','+SHSNRA','SNRA FG','-SNRA FZFG','SHSNRA','-RASN DRSN','-SHRASNGS','SHRASN','-SHSNRA BR','SHRAGSSN','RA SN','SHGSSN', 'SHSN DRSN','-DZSN','-SHRASN BR','VCSH DRSN','-SNRA -UP','SNRA','RASN BR','-SHSNRA','-RA -SN','-RA -SN BR','-RASN BR','-FZRA -SN DRSN','-RASN','RASN','-FZRA -SN BR','-SNRA BR','-SHRASN','-SNRA'],\n",
    "                                                                ['Mixed Rain and Snow','Mixed Rain and Snow','Mixed Rain and Snow','Mixed Rain and Snow','Mixed Rain and Snow','Mixed Rain and Snow','Mixed Rain and Snow','Mixed Rain and Snow','Mixed Rain and Snow','Mixed Rain and Snow','Mixed Rain and Snow','Mixed Rain and Snow','Mixed Rain and Snow','Mixed Rain and Snow','Mixed Rain and Snow','Mixed Rain and Snow','Mixed Rain and Snow','Mixed Rain and Snow','Mixed Rain and Snow','Mixed Rain and Snow','Mixed Rain and Snow','Mixed Rain and Snow','Mixed Rain and Snow','Mixed Rain and Snow','Mixed Rain and Snow','Mixed Rain and Snow','Mixed Rain and Snow','Mixed Rain and Snow','Mixed Rain and Snow','Mixed Rain and Snow','Mixed Rain and Snow','Mixed Rain and Snow','Mixed Rain and Snow','Mixed Rain and Snow','Mixed Rain and Snow','Mixed Rain and Snow','Mixed Rain and Snow','Mixed Rain and Snow','Mixed Rain and Snow','Mixed Rain and Snow','Mixed Rain and Snow','Mixed Rain and Snow','Mixed Rain and Snow','Mixed Rain and Snow','Mixed Rain and Snow','Mixed Rain and Snow','Mixed Rain and Snow','Mixed Rain and Snow','Mixed Rain and Snow','Mixed Rain and Snow','Mixed Rain and Snow']) \n",
    "\n",
    "WX_Codes_Filter['wxcodes'] = WX_Codes_Filter['wxcodes'].replace(['TSRASN','-TSSNRA', ],\n",
    "                                                                ['Mixed Rain and Snow with Thunderstorm','Mixed Rain and Snow with Thunderstorm',])\n",
    "\n",
    "WX_Codes_Filter['wxcodes'] = WX_Codes_Filter['wxcodes'].replace(['+SNRA BR','+RASN FG VCFG','+RASN','+SNRA','+RA SN',],\n",
    "                                                                ['Heavy Mixed Rain and Snow','Heavy Mixed Rain and Snow','Heavy Mixed Rain and Snow','Heavy Mixed Rain and Snow','Heavy Mixed Rain and Snow',])\n",
    "#MIXED IP/SN#############################################################################################################################################################################\n",
    "WX_Codes_Filter['wxcodes'] = WX_Codes_Filter['wxcodes'].replace(['-PLSN BR','+SHPL BLSN','IC -SN DRSN','IC -SG','-PLSN', 'IC -SG VCBLSN DRSN','-SNPL BLSN','-DZSNPL','-SN PL','SNPL','-SNPL','-PL -SN BR','-PL -SN','-SNPL BR','-SNPL DRSN', '-PLSN DRSN','IC -SN'],\n",
    "                                                                ['Mixed Ice Pellets and Snow','Mixed Ice Pellets and Snow','Mixed Ice Pellets and Snow','Mixed Ice Pellets and Snow','Mixed Ice Pellets and Snow','Mixed Ice Pellets and Snow','Mixed Ice Pellets and Snow','Mixed Ice Pellets and Snow','Mixed Ice Pellets and Snow','Mixed Ice Pellets and Snow','Mixed Ice Pellets and Snow','Mixed Ice Pellets and Snow','Mixed Ice Pellets and Snow','Mixed Ice Pellets and Snow','Mixed Ice Pellets and Snow','Mixed Ice Pellets and Snow','Mixed Ice Pellets and Snow']) \n",
    "\n",
    "WX_Codes_Filter['wxcodes'] = WX_Codes_Filter['wxcodes'].replace(['-TSSNPL',],\n",
    "                                                                ['Mixed Ice Pellets and Snow with Thunderstorm',])\n",
    "\n",
    "WX_Codes_Filter['wxcodes'] = WX_Codes_Filter['wxcodes'].replace([],\n",
    "                                                                [])\n",
    "#MIXED IP/RA#############################################################################################################################################################################\n",
    "WX_Codes_Filter['wxcodes'] = WX_Codes_Filter['wxcodes'].replace(['-PLRA BR','-RAPLSN BR','-SHRA -PL','RAPL BR','-PLRA','-RASNPL', '-SNPLRA','-RAPL', '-RA -PL', '-RA -PL BR','-RA -PL -SN','RAPL','-RA -PL -SN BR','-RAPL BR','-SHPL BR', '-PL BR'],\n",
    "                                                                ['Mixed Rain and Ice Pellets','Mixed Rain and Ice Pellets','Mixed Rain and Ice Pellets','Mixed Rain and Ice Pellets','Mixed Rain and Ice Pellets','Mixed Rain and Ice Pellets','Mixed Rain and Ice Pellets','Mixed Rain and Ice Pellets','Mixed Rain and Ice Pellets','Mixed Rain and Ice Pellets','Mixed Rain and Ice Pellets','Mixed Rain and Ice Pellets','Mixed Rain and Ice Pellets','Mixed Rain and Ice Pellets','Mixed Rain and Ice Pellets','Mixed Rain and Ice Pellets']) \n",
    "\n",
    "WX_Codes_Filter['wxcodes'] = WX_Codes_Filter['wxcodes'].replace([],\n",
    "                                                                [])\n",
    "\n",
    "WX_Codes_Filter['wxcodes'] = WX_Codes_Filter['wxcodes'].replace(['+RAPL',],\n",
    "                                                                ['Heavy Mixed Rain and Ice Pellets',])\n",
    "#UNKNOWN PRECIP#############################################################################################################################################################################\n",
    "WX_Codes_Filter['wxcodes'] = WX_Codes_Filter['wxcodes'].replace([ '-UP FG','-FZUP -SG','FZUP','FZUP FZFG','-FZUP BR','-FZUP FZFG', '-FZUP', 'FZUP BR','-SHUP','UP HZ','-UP FZFG', '-UP BR','UP FG','UP','-UP','UP BR','UP FZFG',],\n",
    "                                                                ['Unknown Precip','Unknown Precip','Unknown Precip','Unknown Precip','Unknown Precip','Unknown Precip','Unknown Precip','Unknown Precip','Unknown Precip','Unknown Precip','Unknown Precip','Unknown Precip','Unknown Precip','Unknown Precip','Unknown Precip','Unknown Precip','Unknown Precip']) \n",
    "\n",
    "WX_Codes_Filter['wxcodes'] = WX_Codes_Filter['wxcodes'].replace(['VCTS UP BR','VCTSUP','TSUP','VCTS UP','VCTS UP HZ', 'VCTS UP FZFG','UP VCTS','TSUP BR'],\n",
    "                                                                ['Unknown Precip with Thunderstorm','Unknown Precip with Thunderstorm','Unknown Precip with Thunderstorm','Unknown Precip with Thunderstorm','Unknown Precip with Thunderstorm','Unknown Precip with Thunderstorm','Unknown Precip with Thunderstorm','Unknown Precip with Thunderstorm',])\n",
    "\n",
    "WX_Codes_Filter['wxcodes'] = WX_Codes_Filter['wxcodes'].replace(['+FZUP','+UP BR','+UP',],\n",
    "                                                                ['Heavy Unknown Precip','Heavy Unknown Precip','Heavy Unknown Precip',])\n",
    "WX_Codes_Filter['ptype'] = WX_Codes_Filter['wxcodes'].map(precip_types_map)\n",
    "WX_Codes_Filter['color'] = WX_Codes_Filter['wxcodes'].map(precip_types_color)\n"
   ]
  },
  {
   "cell_type": "code",
   "execution_count": null,
   "id": "88908ae4-7153-4a69-8859-ccdfa1701cac",
   "metadata": {},
   "outputs": [],
   "source": [
    "#WX_Codes_Filter = WX_Codes_Filter[WX_Codes_Filter['wxcodes'] != 'NULL']\n",
    "#WX_Codes_Filter[WX_Codes_Filter['station'] == 'ALB']"
   ]
  },
  {
   "cell_type": "markdown",
   "id": "b6590db2-0243-4de1-8938-b6734b5160a4",
   "metadata": {},
   "source": [
    "### Uncomment out to view other wxcodes"
   ]
  },
  {
   "cell_type": "code",
   "execution_count": null,
   "id": "8f2ced8a-dbcf-4989-a258-a8c8677c314b",
   "metadata": {
    "tags": []
   },
   "outputs": [],
   "source": [
    "#WX_Codes_Filter[WX_Codes_Filter['ptype'].isna()]\n",
    "pd.unique(WX_Codes_Filter['wxcodes'])"
   ]
  },
  {
   "cell_type": "markdown",
   "id": "35c40897-fc73-453a-b19f-5305ffedbd4c",
   "metadata": {},
   "source": [
    "### Replace all nan values with -1"
   ]
  },
  {
   "cell_type": "code",
   "execution_count": null,
   "id": "38e70d30-8f9a-423c-a0a4-fd14ccf402e5",
   "metadata": {},
   "outputs": [],
   "source": [
    "WX_Codes_Filter['ptype'] = WX_Codes_Filter['ptype'].fillna(0)"
   ]
  },
  {
   "cell_type": "markdown",
   "id": "190ad43f-78ca-4192-a569-95405012db71",
   "metadata": {},
   "source": [
    "### Make Datetime and Object to use when hovered over"
   ]
  },
  {
   "cell_type": "code",
   "execution_count": null,
   "id": "97e4d662-b992-43a5-99d0-d8f596848e7a",
   "metadata": {},
   "outputs": [],
   "source": [
    "WX_Codes_Filter['valid']=WX_Codes_Filter['valid'].astype(str)\n",
    "WX_Codes_Filter['valid'] = WX_Codes_Filter['valid'].apply(lambda x: x + 'Z')"
   ]
  },
  {
   "cell_type": "markdown",
   "id": "12ff8a1c-2ba3-4598-930f-131097904fa7",
   "metadata": {},
   "source": [
    "### Round times to be used in making a timeseries"
   ]
  },
  {
   "cell_type": "code",
   "execution_count": null,
   "id": "43a0e66f-d6da-4987-8795-6be44a8ce740",
   "metadata": {},
   "outputs": [],
   "source": [
    "WX_Codes_Filter['valid_rounded'] = pd.to_datetime( WX_Codes_Filter['valid'])\n",
    "WX_Codes_Filter['valid_rounded'] = WX_Codes_Filter['valid_rounded'].apply(lambda x: x + pd.Timedelta(minutes=60) if x.minute >= 1 and x.minute < 30 else x)\n",
    "WX_Codes_Filter['valid_rounded'] = WX_Codes_Filter['valid_rounded'].apply(lambda x: x + pd.Timedelta(hours=1) if x.minute >= 30 else x)\n",
    "WX_Codes_Filter['valid_rounded'] = WX_Codes_Filter['valid_rounded'].dt.strftime('%Y-%m-%d %H:00Z')"
   ]
  },
  {
   "cell_type": "markdown",
   "id": "f85972ab-1311-4733-99ad-af7c439e5d53",
   "metadata": {
    "tags": []
   },
   "source": [
    "### Renaming Columns"
   ]
  },
  {
   "cell_type": "code",
   "execution_count": null,
   "id": "0f34c928-c01b-4e0e-9ddb-71a439728527",
   "metadata": {
    "tags": []
   },
   "outputs": [],
   "source": [
    "WX_Codes_Filter = WX_Codes_Filter.fillna('#000000')\n",
    "WX_Codes_Filter = WX_Codes_Filter.rename(columns={'valid':'OBS Time','station' : 'Station','lon':'Lon','lat':'Lat','tmpf': 'Temperature (F)', 'wxcodes': 'Current WX','wxcodes_full':'WX Code','valid_rounded':'Time','sknt':'Wind (mph)','feel':'Real Feel Temperature','p01i':'1 Hour Precipitation'})\n",
    "WX_Codes_Filter['Time'] = pd.to_datetime(WX_Codes_Filter['Time'])"
   ]
  },
  {
   "cell_type": "markdown",
   "id": "ef13ce1a-d0c5-4adf-8990-029799b25353",
   "metadata": {
    "tags": []
   },
   "source": [
    "### Finding the max precip per hour"
   ]
  },
  {
   "cell_type": "code",
   "execution_count": null,
   "id": "64feb56e-f482-4040-9cff-3628ec10c03c",
   "metadata": {
    "tags": []
   },
   "outputs": [],
   "source": [
    "precip_filter = WX_Codes_Filter[WX_Codes_Filter['1 Hour Precipitation'] != 'M']\n",
    "precip_filter = precip_filter[precip_filter['1 Hour Precipitation'] != '0.00']\n",
    "#WX_Codes_Filter2[WX_Codes_Filter2['Station'] == 'FYV']\n",
    "precip_filter['1 Hour Precipitation'] = precip_filter['1 Hour Precipitation'].astype(float)\n",
    "ASOS_precip_hr = precip_filter.groupby(['Station','Time','Lat','Lon'])['1 Hour Precipitation'].max().reset_index()"
   ]
  },
  {
   "cell_type": "code",
   "execution_count": null,
   "id": "9e2ecf81-65a5-4815-bac0-ef31f90500d9",
   "metadata": {
    "tags": []
   },
   "outputs": [],
   "source": [
    "ASOS_precip_hr['1 Hour Precipitation'] = ASOS_precip_hr['1 Hour Precipitation'].astype(float).round(2)\n",
    "ASOS_precip_hr = ASOS_precip_hr[ASOS_precip_hr['1 Hour Precipitation'] != 0]"
   ]
  },
  {
   "cell_type": "markdown",
   "id": "91ea73c6-98ec-41a6-be10-5b267f5ea600",
   "metadata": {},
   "source": [
    "### Just keep the last instance for each hour"
   ]
  },
  {
   "cell_type": "code",
   "execution_count": null,
   "id": "ef902a4b-2ebb-468a-a11a-ce504ee15859",
   "metadata": {},
   "outputs": [],
   "source": [
    "Temp_Filter = WX_Codes_Filter[WX_Codes_Filter['Temperature (F)'] != 'M']\n",
    "ASOS_data_temp = Temp_Filter.drop_duplicates(subset=['Time', 'Station'], keep='last')\n",
    "\n",
    "Real_Filter = WX_Codes_Filter[WX_Codes_Filter['Real Feel Temperature'] != 'M']\n",
    "ASOS_data_real = Real_Filter.drop_duplicates(subset=['Time', 'Station'], keep='last')\n",
    "ASOS_data_real['Real Feel Temperature'] = ASOS_data_real['Real Feel Temperature'].astype(float).round()"
   ]
  },
  {
   "cell_type": "markdown",
   "id": "a7703293-13d4-42b8-85a0-77e220c22d4d",
   "metadata": {
    "tags": []
   },
   "source": [
    "### Calculating max gusts"
   ]
  },
  {
   "cell_type": "code",
   "execution_count": null,
   "id": "ee10355d-44dd-4cba-a30d-10af60e5b21b",
   "metadata": {
    "tags": []
   },
   "outputs": [],
   "source": [
    "ASOS_data_gust = WX_Codes_Filter\n",
    "\n",
    "ASOS_data_gust['peak_wind_gust'] = pd.to_numeric(ASOS_data_gust['peak_wind_gust'], errors='coerce')\n",
    "ASOS_data_gust['Wind (mph)'] = pd.to_numeric(ASOS_data_gust['Wind (mph)'], errors='coerce')\n",
    "ASOS_data_gust['Max Gust (mph)'] = ASOS_data_gust[['peak_wind_gust', 'Wind (mph)']].max(axis=1)\n",
    "ASOS_data_gust_grouped = ASOS_data_gust.groupby(['Station','Time','Lat','Lon'])['Max Gust (mph)'].max().reset_index()"
   ]
  },
  {
   "cell_type": "code",
   "execution_count": null,
   "id": "5274e548-7358-4b8f-924d-9f90fb2b4dc0",
   "metadata": {
    "tags": []
   },
   "outputs": [],
   "source": [
    "ASOS_data_gust = ASOS_data_gust_grouped.dropna()\n",
    "ASOS_data_gust['Max Gust (mph)'] = (ASOS_data_gust['Max Gust (mph)']*1.15078).round().astype(int)"
   ]
  },
  {
   "cell_type": "markdown",
   "id": "1f420168-9212-4382-95e0-4d65a9536319",
   "metadata": {
    "tags": []
   },
   "source": [
    "### Making datetime functions the same throughout datasets so the slider can work"
   ]
  },
  {
   "cell_type": "code",
   "execution_count": null,
   "id": "44a2e20c-d65e-4522-8ab6-57bfed8ccc83",
   "metadata": {
    "tags": []
   },
   "outputs": [],
   "source": [
    "ASOS_data_temp['Temperature (F)_r'] = round(ASOS_data_temp['Temperature (F)'].astype(float)).astype(int).astype(str).astype('U')"
   ]
  },
  {
   "cell_type": "markdown",
   "id": "4c11f559-eca5-4bd9-8242-350280a0ab98",
   "metadata": {
    "tags": []
   },
   "source": [
    "### Removing null from ptype"
   ]
  },
  {
   "cell_type": "code",
   "execution_count": null,
   "id": "90364d91-5d85-4489-b27d-737f652f9e03",
   "metadata": {
    "tags": []
   },
   "outputs": [],
   "source": [
    "ASOS_data_ptype = WX_Codes_Filter[WX_Codes_Filter['WX Code'] != 'NULL']\n",
    "ASOS_data_ptype = ASOS_data_ptype[ASOS_data_ptype['WX Code'] != 'M']\n",
    "ASOS_data_ptype = ASOS_data_ptype[ASOS_data_ptype['WX Code'] != '#000000']\n",
    "ASOS_data_ptype = ASOS_data_ptype[ASOS_data_ptype['Current WX'] != 'NULL']\n",
    "ASOS_data_ptype = ASOS_data_ptype[ASOS_data_ptype['Current WX'] != '#000000']"
   ]
  },
  {
   "cell_type": "code",
   "execution_count": null,
   "id": "6cdb2205-67bc-4a9a-8e48-8b858d6b14eb",
   "metadata": {
    "tags": []
   },
   "outputs": [],
   "source": [
    "ASOS_data_ptype = ASOS_data_ptype.drop_duplicates(subset=['Time', 'Station'], keep='last')"
   ]
  },
  {
   "cell_type": "markdown",
   "id": "ad8c8555-d05e-4b96-bd71-0e27697da8c3",
   "metadata": {},
   "source": [
    "### NYSM_data"
   ]
  },
  {
   "cell_type": "code",
   "execution_count": null,
   "id": "56c7bec1-2e2e-4dc7-9518-ed0b3da4e4dc",
   "metadata": {
    "tags": []
   },
   "outputs": [],
   "source": [
    "nysm_sites = pd.read_csv('/spare11/atm533/data/nysm_sites.csv')\n",
    "nysm_sites = nysm_sites[['stid','lat','lon']]\n",
    "nysm_sites = nysm_sites.rename(columns={'stid':'station'})\n",
    "NYSM_data_full = pd.read_csv('/data1/nysm/latest.csv',parse_dates=['time']) \n",
    "NYSM_cols = ['station','time','temp_2m [degC]','max_wind_speed_prop [m/s]','relative_humidity [percent]','precip_local [mm]']\n",
    "NYSM_data = NYSM_data_full[NYSM_cols]\n",
    "\n",
    "NYSM_data = pd.merge(nysm_sites, NYSM_data, on='station', how='left')\n",
    "NYSM_data = NYSM_data.rename(columns={'lat':'Lat', 'lon':'Lon','time':'OBS Time','station':'Station','temp_2m [degC]':'Temperature (F)','max_wind_speed_prop [m/s]':'Wind (mph)','relative_humidity [percent]': 'Relative Humidity','precip_local [mm]':'1 Hour Precipitation'})\n",
    "NYSM_data = NYSM_data.dropna()\n",
    "\n",
    "NYSM_data['Time'] = pd.to_datetime(NYSM_data['OBS Time'])\n",
    "NYSM_data['Time'] = NYSM_data['Time'].apply(lambda x: x + pd.Timedelta(minutes=60) if x.minute >= 1 and x.minute < 30 else x)\n",
    "NYSM_data['Time'] = NYSM_data['Time'].apply(lambda x: x + pd.Timedelta(hours=1) if x.minute >= 30 else x)\n",
    "NYSM_data['Time'] = NYSM_data['Time'].dt.strftime('%Y-%m-%d %H:00Z')\n",
    "NYSM_data['Time'] = pd.to_datetime(NYSM_data['Time'])\n",
    "NYSM_data['OBS Time'] = NYSM_data['OBS Time'].dt.strftime('%Y-%m-%d %H:%MZ')"
   ]
  },
  {
   "cell_type": "markdown",
   "id": "229c4507-f9f8-4514-9bda-c91ef8ecc748",
   "metadata": {},
   "source": [
    "### Precipitation "
   ]
  },
  {
   "cell_type": "code",
   "execution_count": null,
   "id": "1863ff68-38e8-46a5-9bbf-f5818225bc74",
   "metadata": {
    "tags": []
   },
   "outputs": [],
   "source": [
    "precip_filter_NYSM = NYSM_data[NYSM_data['1 Hour Precipitation'] != 0]\n",
    "precip_filter_NYSM = precip_filter_NYSM.sort_values(['Station','Time','Lat','Lon'])\n",
    "precip_NYSM_grouped = precip_filter_NYSM.groupby(['Station', 'Lat','Lon','Time'])"
   ]
  },
  {
   "cell_type": "code",
   "execution_count": null,
   "id": "f31eda1c-02d6-4372-b9de-fa39eb606ce7",
   "metadata": {
    "tags": []
   },
   "outputs": [],
   "source": [
    "first = precip_NYSM_grouped.first()\n",
    "last = precip_NYSM_grouped.last()"
   ]
  },
  {
   "cell_type": "code",
   "execution_count": null,
   "id": "07fbd208-8556-4ffb-96fb-d4661f3851f4",
   "metadata": {
    "tags": []
   },
   "outputs": [],
   "source": [
    "precip_NYSM = last['1 Hour Precipitation'] - first['1 Hour Precipitation']"
   ]
  },
  {
   "cell_type": "code",
   "execution_count": null,
   "id": "a3d445f1-cd13-4f78-aa26-27089ccb41ba",
   "metadata": {
    "tags": []
   },
   "outputs": [],
   "source": [
    "precip_NYSM = precip_NYSM.groupby(['Station', 'Lat','Lon','Time']).last().reset_index()"
   ]
  },
  {
   "cell_type": "code",
   "execution_count": null,
   "id": "59d889d1-6d66-418f-b346-2e74f9907f17",
   "metadata": {
    "tags": []
   },
   "outputs": [],
   "source": [
    "precip_NYSM['1 Hour Precipitation'] = precip_NYSM['1 Hour Precipitation'].astype(float)*0.0393701"
   ]
  },
  {
   "cell_type": "code",
   "execution_count": null,
   "id": "a7bb4379-973e-44b2-a25b-059c00125477",
   "metadata": {
    "tags": []
   },
   "outputs": [],
   "source": [
    "#NYSM_data.columns"
   ]
  },
  {
   "cell_type": "markdown",
   "id": "fcbc67e3-e641-43c0-b954-0c067cfacb74",
   "metadata": {
    "tags": []
   },
   "source": [
    "### Converting NYSM temp and adding wind chill"
   ]
  },
  {
   "cell_type": "code",
   "execution_count": null,
   "id": "1176dfbb-2827-43c5-9b53-f155e86e04a5",
   "metadata": {
    "tags": []
   },
   "outputs": [],
   "source": [
    "NYSM_data['Temperature (F)'] = (NYSM_data['Temperature (F)']*9/5)+32\n",
    "NYSM_data['Wind (mph)'] = (NYSM_data['Wind (mph)']*2.237).round().astype(object)\n",
    "NYSM_Temp = NYSM_data['Temperature (F)'].values*units.degF\n",
    "NYSM_Wind =NYSM_data['Wind (mph)'].values*units.mph\n",
    "NYSM_data['Real Feel Temperature'] = mpcalc.apparent_temperature(NYSM_Temp.astype(float), NYSM_data['Relative Humidity'], NYSM_Wind.astype(float), mask_undefined=False)"
   ]
  },
  {
   "cell_type": "code",
   "execution_count": null,
   "id": "3b3778ca-17fc-4987-af8c-ea6e721bd6c4",
   "metadata": {
    "tags": []
   },
   "outputs": [],
   "source": [
    "NYSM_data['Temperature (F)_r'] = round(NYSM_data['Temperature (F)'].astype(float)).astype(int).astype(str).astype('U')\n",
    "NYSM_data['Real Feel Temperature'] = NYSM_data['Real Feel Temperature'].round().astype(int)"
   ]
  },
  {
   "cell_type": "code",
   "execution_count": null,
   "id": "05e2c5f6-9964-4dda-b7d5-15bdeefd441a",
   "metadata": {
    "tags": []
   },
   "outputs": [],
   "source": [
    "NYSM_data_gust = NYSM_data\n",
    "NYSM_data_gust['Max Gust (mph)'] = NYSM_data_gust['Wind (mph)'].astype(int)\n",
    "NYSM_data_gust_grouped = NYSM_data_gust.groupby(['Station','Time','Lat','Lon'])\n",
    "NYSM_max_gust = NYSM_data_gust_grouped['Max Gust (mph)'].max()\n",
    "NYSM_max_gust = NYSM_max_gust.reset_index()\n",
    "NYSM_max_gust['Max Gust (mph)'] =NYSM_max_gust['Max Gust (mph)'].round().astype(int)"
   ]
  },
  {
   "cell_type": "code",
   "execution_count": null,
   "id": "dc41be66-f04c-4dd2-b211-5362fe807e0a",
   "metadata": {
    "tags": []
   },
   "outputs": [],
   "source": [
    "NYSM_data = NYSM_data.drop_duplicates(subset=['Time', 'Station'], keep='last')"
   ]
  },
  {
   "cell_type": "markdown",
   "id": "5461f1a8-2b84-4a70-a554-840bff2dbf52",
   "metadata": {
    "tags": []
   },
   "source": [
    "### Merging Datasets"
   ]
  },
  {
   "cell_type": "code",
   "execution_count": null,
   "id": "8b760873-29a0-435f-a233-02e9fbe19bdc",
   "metadata": {
    "tags": []
   },
   "outputs": [],
   "source": [
    "precip_NYSM['1 Hour Precipitation'] = precip_NYSM['1 Hour Precipitation'].astype(object)\n",
    "Gust_data = pd.merge(NYSM_max_gust, ASOS_data_gust,  how='outer')\n",
    "Precip_data = pd.merge(ASOS_precip_hr, precip_NYSM, how='outer')"
   ]
  },
  {
   "cell_type": "code",
   "execution_count": null,
   "id": "69d9281d-e3ea-4ba2-96ea-ca2a40dbfbea",
   "metadata": {
    "tags": []
   },
   "outputs": [],
   "source": [
    "Precip_data = Precip_data[Precip_data['1 Hour Precipitation'] != 0.0001]\n",
    "Precip_data = Precip_data[Precip_data['1 Hour Precipitation'] != 0.0]"
   ]
  },
  {
   "cell_type": "markdown",
   "id": "d9708745-23b6-4740-91dc-684e0479c0b4",
   "metadata": {},
   "source": [
    "### Changing Dataset columns so they're uniform throughout NYSM and ASOS"
   ]
  },
  {
   "cell_type": "code",
   "execution_count": null,
   "id": "870164e5-6435-4c71-a358-00fe4635d77f",
   "metadata": {
    "tags": []
   },
   "outputs": [],
   "source": [
    "NYSM_data['Wind (mph)'] = NYSM_data['Wind (mph)'].astype(object)\n",
    "NYSM_data['Real Feel Temperature'] = NYSM_data['Real Feel Temperature'].astype(object)\n",
    "NYSM_data['1 Hour Precipitation'] = NYSM_data['1 Hour Precipitation'].astype(object)\n",
    "NYSM_data['Max Gust (mph)'] = NYSM_data['Max Gust (mph)'].astype(object)\n",
    "NYSM_data['Temperature (F)'] = NYSM_data['Temperature (F)'].astype(object)"
   ]
  },
  {
   "cell_type": "markdown",
   "id": "e2130356-4854-43c6-b493-789db2347a2e",
   "metadata": {
    "tags": []
   },
   "source": [
    "### Merging the datasets together"
   ]
  },
  {
   "cell_type": "code",
   "execution_count": null,
   "id": "27a1736f-467d-45d9-bc43-9fb079af6522",
   "metadata": {
    "tags": []
   },
   "outputs": [],
   "source": [
    "Temp_data = pd.merge(ASOS_data_temp, NYSM_data, how='outer')\n",
    "Real_data = pd.merge(ASOS_data_real, NYSM_data, how='outer')\n",
    "Ptype_data = pd.merge(ASOS_data_ptype, MPING_data, how='outer')"
   ]
  },
  {
   "cell_type": "code",
   "execution_count": null,
   "id": "d26894f1-a2d3-4449-83fc-ace433853245",
   "metadata": {
    "tags": []
   },
   "outputs": [],
   "source": [
    "\n",
    "# Define function to map precipitation types to short codes\n",
    "def get_short_code(precip_type):\n",
    "    if precip_type == 'Unknown Precip':\n",
    "        return 'UP'\n",
    "    elif precip_type == 'Heavy Unknown Precip':\n",
    "        return '+UP'\n",
    "    elif precip_type == 'Unknown Precip with Thunderstorm':\n",
    "        return 'TS UP'\n",
    "    elif precip_type == 'Snow and/or Graupel':\n",
    "        return 'SN'\n",
    "    elif precip_type == 'Heavy Snow and/or Graupel':\n",
    "        return '+SN'\n",
    "    elif precip_type ==  'Snow and/or Graupel with Thunderstorm':\n",
    "        return 'TS SN'\n",
    "    elif precip_type == 'Ice Pellets/Sleet':\n",
    "        return 'IP'\n",
    "    elif precip_type == 'Heavy Ice Pellets/Sleet':\n",
    "        return '+IP'\n",
    "    elif precip_type == 'Ice Pellets/Sleet with Thunderstorm':\n",
    "        return 'TS IP'\n",
    "    elif precip_type == 'Mixed Ice Pellets and Snow':\n",
    "        return 'IP/SN'\n",
    "    elif precip_type == 'Heavy Mixed Ice Pellets and Snow':\n",
    "        return '+IP/SN'\n",
    "    elif precip_type ==  'Mixed Ice Pellets and Snow with Thunderstorm':\n",
    "        return 'TS IP/SN'\n",
    "    elif precip_type == 'Freezing Rain':\n",
    "        return 'ZR'\n",
    "    elif precip_type == 'Heavy Freezing Rain':\n",
    "        return '+ZR'\n",
    "    elif precip_type == 'Freezing Rain with Thunderstorm':\n",
    "        return 'TS ZR'\n",
    "    elif precip_type == 'Freezing Drizzle':\n",
    "        return 'ZR'\n",
    "    elif precip_type == 'Mixed Freezing Rain and Ice Pellets':\n",
    "        return 'ZR/IP'\n",
    "    elif precip_type ==  'Heavy Mixed Freezing Rain and Ice Pellets':\n",
    "        return '+ZR/IP'\n",
    "    elif precip_type == 'Mixed Freezing Rain and Ice Pellets with Thunderstorm':\n",
    "        return 'TS ZR/IP'\n",
    "    elif precip_type == 'Rain':\n",
    "        return 'RA'\n",
    "    elif precip_type == 'Heavy Rain':\n",
    "        return '+RA'\n",
    "    elif precip_type == 'Rain with Thunderstorm':\n",
    "        return 'TS RA'\n",
    "    elif precip_type == 'Drizzle':\n",
    "        return 'RA'\n",
    "    elif precip_type ==  'Mixed Rain and Snow':\n",
    "        return 'RA/SN'\n",
    "    elif precip_type == 'Heavy Mixed Rain and Snow':\n",
    "        return '+RA/SN'\n",
    "    elif precip_type == 'Mixed Rain and Snow with Thunderstorm':\n",
    "        return 'TS RA/SN'\n",
    "    elif precip_type == 'Mixed Rain and Ice Pellets':\n",
    "        return 'RA/IP'\n",
    "    elif precip_type ==  'Heavy Mixed Rain and Ice Pellets':\n",
    "        return '+RA/IP'\n",
    "    elif precip_type == 'Mixed Rain and Ice Pellets with Thunderstorm':\n",
    "        return 'TS RA/IP'\n",
    "    else:\n",
    "        return ''\n",
    "\n",
    "# Apply the function to create a new column\n",
    "Ptype_data['Precipitation Label'] = Ptype_data['Current WX'].apply(get_short_code)\n"
   ]
  },
  {
   "cell_type": "markdown",
   "id": "ba31c456-a957-4cbb-a916-2f788e5a0d11",
   "metadata": {
    "tags": []
   },
   "source": [
    "### Adding X and Y coordinates to the data"
   ]
  },
  {
   "cell_type": "code",
   "execution_count": null,
   "id": "7c7e73ad-4a83-49d0-8ad9-4fd59d10b1c5",
   "metadata": {
    "tags": []
   },
   "outputs": [],
   "source": [
    "inProj = Proj(init='epsg:4326')\n",
    "outProj = Proj(init='epsg:3857')"
   ]
  },
  {
   "cell_type": "code",
   "execution_count": null,
   "id": "f9ae8997-82a1-4218-b585-f4a6ae9f1ffd",
   "metadata": {
    "tags": []
   },
   "outputs": [],
   "source": [
    "Temp_data['x'], Temp_data['y'] = transform(inProj,outProj,Temp_data['Lon'].values,Temp_data['Lat'].values)\n",
    "Ptype_data['x'], Ptype_data['y'] = transform(inProj,outProj,Ptype_data['Lon'].values,Ptype_data['Lat'].values)\n",
    "Real_data['x'], Real_data['y'] = transform(inProj,outProj,Real_data['Lon'].values,Real_data['Lat'].values)\n",
    "Gust_data['x'], Gust_data['y'] = transform(inProj,outProj,Gust_data['Lon'].values,Gust_data['Lat'].values)\n",
    "Precip_data['x'],Precip_data['y'] = transform(inProj,outProj,Precip_data['Lon'].values,Precip_data['Lat'].values)"
   ]
  },
  {
   "cell_type": "code",
   "execution_count": null,
   "id": "eab6cbeb-89e5-473c-a470-b212465108ef",
   "metadata": {
    "tags": []
   },
   "outputs": [],
   "source": [
    "Precip_data_24 = Precip_data.groupby(['Station','Lat','Lon','x','y'])['1 Hour Precipitation'].sum()\n",
    "Precip_data_24 = Precip_data_24.reset_index()\n",
    "Precip_data_24 = Precip_data_24.rename(columns={'1 Hour Precipitation':'24 Hour Precipitation'})"
   ]
  },
  {
   "cell_type": "code",
   "execution_count": null,
   "id": "caf716e7-4b3a-4a35-9a51-02ae46e60b26",
   "metadata": {
    "tags": []
   },
   "outputs": [],
   "source": [
    "Real_data['Real Feel Temperature'] = Real_data['Real Feel Temperature'].astype(float)"
   ]
  },
  {
   "cell_type": "code",
   "execution_count": null,
   "id": "a80966d6-9cff-4305-9f8f-d882fa082994",
   "metadata": {
    "tags": []
   },
   "outputs": [],
   "source": [
    "Ptype_data.dropna(subset=['Current WX'], inplace=True)"
   ]
  },
  {
   "cell_type": "code",
   "execution_count": null,
   "id": "59b27ac8-21b5-418f-a9c7-a5bad782e17f",
   "metadata": {
    "tags": []
   },
   "outputs": [],
   "source": [
    "Gust_data = Gust_data[Gust_data['Max Gust (mph)'] >= 10]"
   ]
  },
  {
   "cell_type": "code",
   "execution_count": null,
   "id": "1de9575a-adb4-43d8-9ba4-8e56f8c0a203",
   "metadata": {
    "tags": []
   },
   "outputs": [],
   "source": [
    "Ptype_data['Label'] = 'Precipitation Type'\n",
    "Gust_data['Label'] = 'Wind Gust'\n",
    "Temp_data['Label'] = '2m Temperature'\n",
    "Real_data['Label'] = 'Real Feel Temperature'\n",
    "Precip_data['Label'] = '1hr Precipitation'\n",
    "Precip_data_24['Label'] = '24hr Precipitation'"
   ]
  },
  {
   "cell_type": "code",
   "execution_count": null,
   "id": "f119da45-e1c3-4844-868f-bd3d745db14a",
   "metadata": {
    "tags": []
   },
   "outputs": [],
   "source": [
    "Ptype = Ptype_data.loc[:,['Station','OBS Time','Current WX','WX Code', 'Temperature (F)','color','Lat','Lon','Time','Label','Precipitation Label']]\n",
    "Gust = Gust_data.loc[:,['Station','Max Gust (mph)','Lat','Lon','Time','Label']]\n",
    "Temp = Temp_data.loc[:,['Station','OBS Time','Temperature (F)','Temperature (F)_r','Lat','Lon','Time','Label']]\n",
    "Real_Feel = Real_data.loc[:,['Station','OBS Time','Real Feel Temperature','Temperature (F)','Lat','Lon','Time','Label']]\n",
    "Precip = Precip_data.loc[:,['Station','1 Hour Precipitation','Lat','Lon','Time','Label']]\n",
    "Precip_24 = Precip_data_24.loc[:,['Station','24 Hour Precipitation','Lat','Lon','Label']]"
   ]
  },
  {
   "cell_type": "code",
   "execution_count": null,
   "id": "0b48cce0-299d-4664-9e7e-536e0e4dd3a7",
   "metadata": {
    "tags": []
   },
   "outputs": [],
   "source": [
    "Temp['Temperature (F)']= Temp['Temperature (F)'].astype(float).round(2)"
   ]
  },
  {
   "cell_type": "code",
   "execution_count": null,
   "id": "df6e638a-9403-4140-ab9d-ff052e463b20",
   "metadata": {
    "tags": []
   },
   "outputs": [],
   "source": [
    "Temp['Temperature (F)']= Temp['Temperature (F)'].astype(float)"
   ]
  },
  {
   "cell_type": "code",
   "execution_count": null,
   "id": "68ee13a6-1a13-4f34-8830-aba3c69e1ddd",
   "metadata": {
    "tags": []
   },
   "outputs": [],
   "source": [
    "All_data = pd.concat([Ptype, Gust, Temp, Real_Feel, Precip, Precip_24])"
   ]
  },
  {
   "cell_type": "markdown",
   "id": "ee397ea6-deed-41cf-93b6-5b0d99c42d27",
   "metadata": {},
   "source": [
    "### Save the Data"
   ]
  },
  {
   "cell_type": "code",
   "execution_count": null,
   "id": "fb75a84a-5c1e-404f-8a3e-4cc01b1388d5",
   "metadata": {},
   "outputs": [],
   "source": [
    "All_data.to_csv('All_data.csv', index=False)"
   ]
  },
  {
   "cell_type": "code",
   "execution_count": null,
   "id": "406b4abf-76d3-4e14-babd-46e988694c93",
   "metadata": {},
   "outputs": [],
   "source": [
    "All_data[All_data['Station'] =='MYGF']"
   ]
  },
  {
   "cell_type": "code",
   "execution_count": null,
   "id": "e47538f7-dab2-4438-adb0-111ea4c1753b",
   "metadata": {},
   "outputs": [],
   "source": []
  }
 ],
 "metadata": {
  "kernelspec": {
   "display_name": "Python 3 (ipykernel)",
   "language": "python",
   "name": "python3"
  },
  "language_info": {
   "codemirror_mode": {
    "name": "ipython",
    "version": 3
   },
   "file_extension": ".py",
   "mimetype": "text/x-python",
   "name": "python",
   "nbconvert_exporter": "python",
   "pygments_lexer": "ipython3",
   "version": "3.11.4"
  }
 },
 "nbformat": 4,
 "nbformat_minor": 5
}
